{
  "nbformat": 4,
  "nbformat_minor": 0,
  "metadata": {
    "colab": {
      "provenance": []
    },
    "kernelspec": {
      "name": "python3",
      "display_name": "Python 3"
    },
    "language_info": {
      "name": "python"
    }
  },
  "cells": [
    {
      "cell_type": "markdown",
      "source": [
        "# Trabalho com Mensageria"
      ],
      "metadata": {
        "id": "zDppmatzGbt8"
      }
    },
    {
      "cell_type": "markdown",
      "source": [
        "Requisição de um API"
      ],
      "metadata": {
        "id": "8YD5f8woGka7"
      }
    },
    {
      "cell_type": "code",
      "source": [
        "pip install requests"
      ],
      "metadata": {
        "colab": {
          "base_uri": "https://localhost:8080/"
        },
        "id": "0IQBJXQmGw8M",
        "outputId": "f6a23fb1-214b-4801-8c9d-f4760e0ca13b"
      },
      "execution_count": 1,
      "outputs": [
        {
          "output_type": "stream",
          "name": "stdout",
          "text": [
            "Requirement already satisfied: requests in /usr/local/lib/python3.10/dist-packages (2.32.3)\n",
            "Requirement already satisfied: charset-normalizer<4,>=2 in /usr/local/lib/python3.10/dist-packages (from requests) (3.4.0)\n",
            "Requirement already satisfied: idna<4,>=2.5 in /usr/local/lib/python3.10/dist-packages (from requests) (3.10)\n",
            "Requirement already satisfied: urllib3<3,>=1.21.1 in /usr/local/lib/python3.10/dist-packages (from requests) (2.2.3)\n",
            "Requirement already satisfied: certifi>=2017.4.17 in /usr/local/lib/python3.10/dist-packages (from requests) (2024.8.30)\n"
          ]
        }
      ]
    },
    {
      "cell_type": "markdown",
      "source": [
        "Importando bibliotecas"
      ],
      "metadata": {
        "id": "o-JeM6-mG64I"
      }
    },
    {
      "cell_type": "code",
      "source": [
        "import requests\n",
        "import json"
      ],
      "metadata": {
        "id": "P4tXM_H2HD0-"
      },
      "execution_count": 3,
      "outputs": []
    },
    {
      "cell_type": "markdown",
      "source": [
        "Importando URL"
      ],
      "metadata": {
        "id": "4lqVWz3SHRA2"
      }
    },
    {
      "cell_type": "code",
      "source": [
        "url = 'https://economia.awesomeapi.com.br/json/last/USD-BRL'"
      ],
      "metadata": {
        "id": "6AN4kEmtHVaL"
      },
      "execution_count": 12,
      "outputs": []
    },
    {
      "cell_type": "markdown",
      "source": [
        "Cotação atual"
      ],
      "metadata": {
        "id": "IGMtGoFwI0fG"
      }
    },
    {
      "cell_type": "code",
      "source": [
        "cotacao = requests.get(url).content"
      ],
      "metadata": {
        "id": "E7T82Z1mI4Tz"
      },
      "execution_count": null,
      "outputs": []
    },
    {
      "cell_type": "markdown",
      "source": [
        "Ler Arquivo JSON"
      ],
      "metadata": {
        "id": "chX5gwrgJs2E"
      }
    },
    {
      "cell_type": "code",
      "source": [
        "dic = json.loads(cotacao)"
      ],
      "metadata": {
        "id": "kui6T28pJ0LR"
      },
      "execution_count": null,
      "outputs": []
    },
    {
      "cell_type": "markdown",
      "source": [
        "Visualizar o valor do Dolar"
      ],
      "metadata": {
        "id": "aBL4TlTjKEHc"
      }
    },
    {
      "cell_type": "code",
      "source": [
        "dic [\"USDBRL\"] ['bid']\n",
        "print(dic.values())"
      ],
      "metadata": {
        "id": "HZM3xOGzKKv8"
      },
      "execution_count": null,
      "outputs": []
    },
    {
      "cell_type": "markdown",
      "source": [
        "# Exercício\n",
        "crie uma lista em reais com os valores: 1,2,5,20,50,100 e 200.Faça a conversão de reias para dolar atual. Mostre em tela as duas comparações."
      ],
      "metadata": {
        "id": "T8WPG3uWLr9I"
      }
    },
    {
      "cell_type": "code",
      "source": [],
      "metadata": {
        "id": "69cTjZPDN2Ue"
      },
      "execution_count": null,
      "outputs": []
    },
    {
      "cell_type": "code",
      "source": [
        "import requests\n",
        "import json\n",
        "\n",
        "reais = [1,2,5,10,20,50,100,200]\n",
        "cotacao = requests.get(url).content\n",
        "dic = json.loads(cotacao)\n",
        "dolar = [round(x/float(dic['USDBRL']['bid']),2) for x in reais]\n",
        "\n",
        "print(\"{:<4}{:<6}\".format(\"N°\", \"USD\",\"BRL\"))\n",
        "for x in range(0,len(reais)):\n",
        " print(\"{:>4}{:>6}{:>6}\".format(x+1,reais[x],dolar[x]))"
      ],
      "metadata": {
        "colab": {
          "base_uri": "https://localhost:8080/"
        },
        "id": "TchW5ftkNFik",
        "outputId": "b8e29e9e-65e4-4df7-8e39-edab944a76b3"
      },
      "execution_count": 13,
      "outputs": [
        {
          "output_type": "stream",
          "name": "stdout",
          "text": [
            "N°  USD   \n",
            "   1     1  0.17\n",
            "   2     2  0.35\n",
            "   3     5  0.86\n",
            "   4    10  1.73\n",
            "   5    20  3.45\n",
            "   6    50  8.63\n",
            "   7   100 17.25\n",
            "   8   200  34.5\n"
          ]
        }
      ]
    },
    {
      "cell_type": "markdown",
      "source": [
        "# Exercício 2"
      ],
      "metadata": {
        "id": "Vp5ANfnGU4qF"
      }
    },
    {
      "cell_type": "markdown",
      "source": [
        "Crie uma lista em reais com os valores:1,2,5,10,20,50,100 e 200. Faça a coverção de reais para euro atual. Mostre em tela as duas comparações"
      ],
      "metadata": {
        "id": "NLaGlaikVKF8"
      }
    },
    {
      "cell_type": "code",
      "source": [
        "url = 'https://economia.awesomeapi.com.br/json/last/EUR-BRL'\n",
        "\n",
        "reais = [1,2,5,10,20,50,100,200]\n",
        "cotacao = requests.get(url).content\n",
        "dic = json.loads(cotacao)\n",
        "euro = [round(x/float(dic[\"EURBRL\"][\"bid\"]),2) for x in reais]\n",
        "\n",
        "print (\"{:<4}{:<6}{:<6}\".format(x+1,reais[x],euro[x]))"
      ],
      "metadata": {
        "colab": {
          "base_uri": "https://localhost:8080/"
        },
        "id": "MCahoZWuYSim",
        "outputId": "6d1155b3-5d28-4a16-ac12-102be758a392"
      },
      "execution_count": 14,
      "outputs": [
        {
          "output_type": "stream",
          "name": "stdout",
          "text": [
            "8   200   32.64 \n"
          ]
        }
      ]
    },
    {
      "cell_type": "markdown",
      "source": [
        "# Exercício 3\n"
      ],
      "metadata": {
        "id": "qmOcZ7BPyS_O"
      }
    },
    {
      "cell_type": "code",
      "source": [
        "url1 = \"https://economia.awesomeapi.com.br/json/last/EUR-BRL\"\n",
        "url2 = \"https://economia.awesomeapi.com.br/json/last/USD-BRL\"\n",
        "url3 = \"https://economia.awesomeapi.com.br/json/last/ARS-BRL\"\n",
        "\n",
        "cot1 = requests.get(url1).content\n",
        "cot2 = requests.get(url2).content\n",
        "cot3 = requests.get(url3).content\n",
        "\n",
        "dic1 = json.loads(cot1)\n",
        "dic2 = json.loads(cot2)\n",
        "dic3 = json.loads(cot3)\n",
        "\n",
        "BRL = [1,2,5,10,50,100,200]\n",
        "EUR = [round(x/float(dic1[\"EURBRL\"][\"bid\"]),2) for x in reais]\n",
        "USD = [round(x/float(dic2[\"USDBRL\"][\"bid\"]),2) for x in reais]\n",
        "ARS = [round(x/float(dic3[\"ARSBRL\"][\"bid\"]),2) for x in reais]\n",
        "\n",
        "print(\"{:<6}{:<6}{:<6}{:<6}{:<6}\".format(\"N°\",\"BRL\",\"EUR\",\"USD\",\"ARS\"))\n",
        "print(\"_________________________________\")\n",
        "for x in range(0,len(reais)):\n",
        "  print(\"{:<6}{:<6}{:<6}{:<6}{:<6}\".format(x+1,BRL[x],USD[x],ARS[x]))"
      ],
      "metadata": {
        "colab": {
          "base_uri": "https://localhost:8080/",
          "height": 211
        },
        "id": "U6msPavTyZUE",
        "outputId": "ccdf68b5-56f9-4774-f796-6def3a4d6e8a"
      },
      "execution_count": 18,
      "outputs": [
        {
          "output_type": "stream",
          "name": "stdout",
          "text": [
            "N°    BRL   EUR   USD   ARS   \n",
            "_________________________________\n"
          ]
        },
        {
          "output_type": "error",
          "ename": "IndexError",
          "evalue": "Replacement index 4 out of range for positional args tuple",
          "traceback": [
            "\u001b[0;31m---------------------------------------------------------------------------\u001b[0m",
            "\u001b[0;31mIndexError\u001b[0m                                Traceback (most recent call last)",
            "\u001b[0;32m<ipython-input-18-858217f74ff6>\u001b[0m in \u001b[0;36m<cell line: 20>\u001b[0;34m()\u001b[0m\n\u001b[1;32m     19\u001b[0m \u001b[0mprint\u001b[0m\u001b[0;34m(\u001b[0m\u001b[0;34m\"_________________________________\"\u001b[0m\u001b[0;34m)\u001b[0m\u001b[0;34m\u001b[0m\u001b[0;34m\u001b[0m\u001b[0m\n\u001b[1;32m     20\u001b[0m \u001b[0;32mfor\u001b[0m \u001b[0mx\u001b[0m \u001b[0;32min\u001b[0m \u001b[0mrange\u001b[0m\u001b[0;34m(\u001b[0m\u001b[0;36m0\u001b[0m\u001b[0;34m,\u001b[0m\u001b[0mlen\u001b[0m\u001b[0;34m(\u001b[0m\u001b[0mreais\u001b[0m\u001b[0;34m)\u001b[0m\u001b[0;34m)\u001b[0m\u001b[0;34m:\u001b[0m\u001b[0;34m\u001b[0m\u001b[0;34m\u001b[0m\u001b[0m\n\u001b[0;32m---> 21\u001b[0;31m   \u001b[0mprint\u001b[0m\u001b[0;34m(\u001b[0m\u001b[0;34m\"{:<6}{:<6}{:<6}{:<6}{:<6}\"\u001b[0m\u001b[0;34m.\u001b[0m\u001b[0mformat\u001b[0m\u001b[0;34m(\u001b[0m\u001b[0mx\u001b[0m\u001b[0;34m+\u001b[0m\u001b[0;36m1\u001b[0m\u001b[0;34m,\u001b[0m\u001b[0mBRL\u001b[0m\u001b[0;34m[\u001b[0m\u001b[0mx\u001b[0m\u001b[0;34m]\u001b[0m\u001b[0;34m,\u001b[0m\u001b[0mUSD\u001b[0m\u001b[0;34m[\u001b[0m\u001b[0mx\u001b[0m\u001b[0;34m]\u001b[0m\u001b[0;34m,\u001b[0m\u001b[0mARS\u001b[0m\u001b[0;34m[\u001b[0m\u001b[0mx\u001b[0m\u001b[0;34m]\u001b[0m\u001b[0;34m)\u001b[0m\u001b[0;34m)\u001b[0m\u001b[0;34m\u001b[0m\u001b[0;34m\u001b[0m\u001b[0m\n\u001b[0m",
            "\u001b[0;31mIndexError\u001b[0m: Replacement index 4 out of range for positional args tuple"
          ]
        }
      ]
    },
    {
      "cell_type": "code",
      "source": [],
      "metadata": {
        "id": "skd3PEX0ZvHI"
      },
      "execution_count": null,
      "outputs": []
    }
  ]
}